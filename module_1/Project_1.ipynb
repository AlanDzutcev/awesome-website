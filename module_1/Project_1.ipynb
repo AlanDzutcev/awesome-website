{
 "cells": [
  {
   "cell_type": "code",
   "execution_count": 55,
   "metadata": {
    "_cell_guid": "b1076dfc-b9ad-4769-8c92-a6c4dae69d19",
    "_uuid": "8f2839f25d086af736a60e9eeb907d3b93b6e0e5",
    "colab": {},
    "colab_type": "code",
    "id": "U2D2gTdJVp90"
   },
   "outputs": [],
   "source": [
    "import numpy as np\n",
    "import pandas as pd\n",
    "import seaborn as sns\n",
    "import matplotlib.pyplot as plt\n",
    "import itertools as it\n",
    "from collections import Counter\n"
   ]
  },
  {
   "cell_type": "code",
   "execution_count": 56,
   "metadata": {
    "_cell_guid": "79c7e3d0-c299-4dcb-8224-4455121ee9b0",
    "_uuid": "d629ff2d2480ee46fbb7e2d37f6b5fab8052498a",
    "colab": {},
    "colab_type": "code",
    "id": "oyGfxL3eVp9-"
   },
   "outputs": [
    {
     "data": {
      "text/html": [
       "<div>\n",
       "<style scoped>\n",
       "    .dataframe tbody tr th:only-of-type {\n",
       "        vertical-align: middle;\n",
       "    }\n",
       "\n",
       "    .dataframe tbody tr th {\n",
       "        vertical-align: top;\n",
       "    }\n",
       "\n",
       "    .dataframe thead th {\n",
       "        text-align: right;\n",
       "    }\n",
       "</style>\n",
       "<table border=\"1\" class=\"dataframe\">\n",
       "  <thead>\n",
       "    <tr style=\"text-align: right;\">\n",
       "      <th></th>\n",
       "      <th>imdb_id</th>\n",
       "      <th>budget</th>\n",
       "      <th>revenue</th>\n",
       "      <th>original_title</th>\n",
       "      <th>cast</th>\n",
       "      <th>director</th>\n",
       "      <th>tagline</th>\n",
       "      <th>overview</th>\n",
       "      <th>runtime</th>\n",
       "      <th>genres</th>\n",
       "      <th>production_companies</th>\n",
       "      <th>release_date</th>\n",
       "      <th>vote_average</th>\n",
       "      <th>release_year</th>\n",
       "      <th>profit</th>\n",
       "    </tr>\n",
       "  </thead>\n",
       "  <tbody>\n",
       "    <tr>\n",
       "      <th>603</th>\n",
       "      <td>tt0367882</td>\n",
       "      <td>185000000</td>\n",
       "      <td>786636033</td>\n",
       "      <td>Indiana Jones and the Kingdom of the Crystal S...</td>\n",
       "      <td>Harrison Ford|Cate Blanchett|Shia LaBeouf|Ray ...</td>\n",
       "      <td>Steven Spielberg</td>\n",
       "      <td>The adventure continues . . .</td>\n",
       "      <td>Set during the Cold War, the Soviets â€“ led b...</td>\n",
       "      <td>122</td>\n",
       "      <td>Adventure|Action</td>\n",
       "      <td>Lucasfilm|Paramount Pictures</td>\n",
       "      <td>5/21/2008</td>\n",
       "      <td>5.6</td>\n",
       "      <td>2008</td>\n",
       "      <td>601636033</td>\n",
       "    </tr>\n",
       "    <tr>\n",
       "      <th>1852</th>\n",
       "      <td>tt0162650</td>\n",
       "      <td>46000000</td>\n",
       "      <td>107196498</td>\n",
       "      <td>Shaft</td>\n",
       "      <td>Samuel L. Jackson|Jeffrey Wright|Christian Bal...</td>\n",
       "      <td>John Singleton</td>\n",
       "      <td>Still the man, any questions?</td>\n",
       "      <td>New York police detective John Shaft arrests W...</td>\n",
       "      <td>99</td>\n",
       "      <td>Action|Adventure|Crime|Thriller</td>\n",
       "      <td>Paramount Pictures|Scott Rudin Productions</td>\n",
       "      <td>6/15/2000</td>\n",
       "      <td>5.3</td>\n",
       "      <td>2000</td>\n",
       "      <td>61196498</td>\n",
       "    </tr>\n",
       "    <tr>\n",
       "      <th>471</th>\n",
       "      <td>tt1213648</td>\n",
       "      <td>25000000</td>\n",
       "      <td>4644108</td>\n",
       "      <td>London Boulevard</td>\n",
       "      <td>Keira Knightley|Colin Farrell|Anna Friel|Ray W...</td>\n",
       "      <td>William Monahan</td>\n",
       "      <td>Not every criminal wants to be one.</td>\n",
       "      <td>A parolee battles a gangster for the affection...</td>\n",
       "      <td>103</td>\n",
       "      <td>Drama|Crime</td>\n",
       "      <td>GK Films|Henceforth|Projection Pictures|London...</td>\n",
       "      <td>11/10/2010</td>\n",
       "      <td>5.5</td>\n",
       "      <td>2010</td>\n",
       "      <td>-20355892</td>\n",
       "    </tr>\n",
       "    <tr>\n",
       "      <th>794</th>\n",
       "      <td>tt0491152</td>\n",
       "      <td>35000000</td>\n",
       "      <td>59901913</td>\n",
       "      <td>Something Borrowed</td>\n",
       "      <td>Kate Hudson|Ginnifer Goodwin|John Krasinski|Co...</td>\n",
       "      <td>Luke Greenfield</td>\n",
       "      <td>It's a thin line between love and friendship.</td>\n",
       "      <td>Though Rachel (Ginnifer Goodwin) is a successf...</td>\n",
       "      <td>112</td>\n",
       "      <td>Comedy|Drama|Romance</td>\n",
       "      <td>Alcon Entertainment|Wild Ocean Films|2S Films</td>\n",
       "      <td>5/5/2011</td>\n",
       "      <td>6.0</td>\n",
       "      <td>2011</td>\n",
       "      <td>24901913</td>\n",
       "    </tr>\n",
       "    <tr>\n",
       "      <th>869</th>\n",
       "      <td>tt0121765</td>\n",
       "      <td>120000000</td>\n",
       "      <td>649398328</td>\n",
       "      <td>Star Wars: Episode II - Attack of the Clones</td>\n",
       "      <td>Ewan McGregor|Natalie Portman|Hayden Christens...</td>\n",
       "      <td>George Lucas</td>\n",
       "      <td>A Jedi Shall Not Know Anger. Nor Hatred. Nor L...</td>\n",
       "      <td>Ten years after the invasion of Naboo, the gal...</td>\n",
       "      <td>142</td>\n",
       "      <td>Adventure|Action|Science Fiction</td>\n",
       "      <td>Lucasfilm</td>\n",
       "      <td>5/15/2002</td>\n",
       "      <td>6.4</td>\n",
       "      <td>2002</td>\n",
       "      <td>529398328</td>\n",
       "    </tr>\n",
       "  </tbody>\n",
       "</table>\n",
       "</div>"
      ],
      "text/plain": [
       "        imdb_id     budget    revenue  \\\n",
       "603   tt0367882  185000000  786636033   \n",
       "1852  tt0162650   46000000  107196498   \n",
       "471   tt1213648   25000000    4644108   \n",
       "794   tt0491152   35000000   59901913   \n",
       "869   tt0121765  120000000  649398328   \n",
       "\n",
       "                                         original_title  \\\n",
       "603   Indiana Jones and the Kingdom of the Crystal S...   \n",
       "1852                                              Shaft   \n",
       "471                                    London Boulevard   \n",
       "794                                  Something Borrowed   \n",
       "869        Star Wars: Episode II - Attack of the Clones   \n",
       "\n",
       "                                                   cast          director  \\\n",
       "603   Harrison Ford|Cate Blanchett|Shia LaBeouf|Ray ...  Steven Spielberg   \n",
       "1852  Samuel L. Jackson|Jeffrey Wright|Christian Bal...    John Singleton   \n",
       "471   Keira Knightley|Colin Farrell|Anna Friel|Ray W...   William Monahan   \n",
       "794   Kate Hudson|Ginnifer Goodwin|John Krasinski|Co...   Luke Greenfield   \n",
       "869   Ewan McGregor|Natalie Portman|Hayden Christens...      George Lucas   \n",
       "\n",
       "                                                tagline  \\\n",
       "603                       The adventure continues . . .   \n",
       "1852                      Still the man, any questions?   \n",
       "471                 Not every criminal wants to be one.   \n",
       "794       It's a thin line between love and friendship.   \n",
       "869   A Jedi Shall Not Know Anger. Nor Hatred. Nor L...   \n",
       "\n",
       "                                               overview  runtime  \\\n",
       "603   Set during the Cold War, the Soviets â€“ led b...      122   \n",
       "1852  New York police detective John Shaft arrests W...       99   \n",
       "471   A parolee battles a gangster for the affection...      103   \n",
       "794   Though Rachel (Ginnifer Goodwin) is a successf...      112   \n",
       "869   Ten years after the invasion of Naboo, the gal...      142   \n",
       "\n",
       "                                genres  \\\n",
       "603                   Adventure|Action   \n",
       "1852   Action|Adventure|Crime|Thriller   \n",
       "471                        Drama|Crime   \n",
       "794               Comedy|Drama|Romance   \n",
       "869   Adventure|Action|Science Fiction   \n",
       "\n",
       "                                   production_companies release_date  \\\n",
       "603                        Lucasfilm|Paramount Pictures    5/21/2008   \n",
       "1852         Paramount Pictures|Scott Rudin Productions    6/15/2000   \n",
       "471   GK Films|Henceforth|Projection Pictures|London...   11/10/2010   \n",
       "794       Alcon Entertainment|Wild Ocean Films|2S Films     5/5/2011   \n",
       "869                                           Lucasfilm    5/15/2002   \n",
       "\n",
       "      vote_average  release_year     profit  \n",
       "603            5.6          2008  601636033  \n",
       "1852           5.3          2000   61196498  \n",
       "471            5.5          2010  -20355892  \n",
       "794            6.0          2011   24901913  \n",
       "869            6.4          2002  529398328  "
      ]
     },
     "execution_count": 56,
     "metadata": {},
     "output_type": "execute_result"
    }
   ],
   "source": [
    "data = pd.read_csv('movie_bd_v5.csv')\n",
    "\n",
    "data['profit']=data['revenue'] - data['budget']\n",
    "data.sample(5)"
   ]
  },
  {
   "cell_type": "code",
   "execution_count": 57,
   "metadata": {
    "colab": {},
    "colab_type": "code",
    "id": "CoYUnagMVp-C"
   },
   "outputs": [
    {
     "data": {
      "text/html": [
       "<div>\n",
       "<style scoped>\n",
       "    .dataframe tbody tr th:only-of-type {\n",
       "        vertical-align: middle;\n",
       "    }\n",
       "\n",
       "    .dataframe tbody tr th {\n",
       "        vertical-align: top;\n",
       "    }\n",
       "\n",
       "    .dataframe thead th {\n",
       "        text-align: right;\n",
       "    }\n",
       "</style>\n",
       "<table border=\"1\" class=\"dataframe\">\n",
       "  <thead>\n",
       "    <tr style=\"text-align: right;\">\n",
       "      <th></th>\n",
       "      <th>budget</th>\n",
       "      <th>revenue</th>\n",
       "      <th>runtime</th>\n",
       "      <th>vote_average</th>\n",
       "      <th>release_year</th>\n",
       "      <th>profit</th>\n",
       "    </tr>\n",
       "  </thead>\n",
       "  <tbody>\n",
       "    <tr>\n",
       "      <th>count</th>\n",
       "      <td>1.889000e+03</td>\n",
       "      <td>1.889000e+03</td>\n",
       "      <td>1889.000000</td>\n",
       "      <td>1889.000000</td>\n",
       "      <td>1889.000000</td>\n",
       "      <td>1.889000e+03</td>\n",
       "    </tr>\n",
       "    <tr>\n",
       "      <th>mean</th>\n",
       "      <td>5.431083e+07</td>\n",
       "      <td>1.553653e+08</td>\n",
       "      <td>109.658549</td>\n",
       "      <td>6.140762</td>\n",
       "      <td>2007.860773</td>\n",
       "      <td>1.010545e+08</td>\n",
       "    </tr>\n",
       "    <tr>\n",
       "      <th>std</th>\n",
       "      <td>4.858721e+07</td>\n",
       "      <td>2.146698e+08</td>\n",
       "      <td>18.017041</td>\n",
       "      <td>0.764763</td>\n",
       "      <td>4.468841</td>\n",
       "      <td>1.830733e+08</td>\n",
       "    </tr>\n",
       "    <tr>\n",
       "      <th>min</th>\n",
       "      <td>5.000000e+06</td>\n",
       "      <td>2.033165e+06</td>\n",
       "      <td>63.000000</td>\n",
       "      <td>3.300000</td>\n",
       "      <td>2000.000000</td>\n",
       "      <td>-1.657101e+08</td>\n",
       "    </tr>\n",
       "    <tr>\n",
       "      <th>25%</th>\n",
       "      <td>2.000000e+07</td>\n",
       "      <td>3.456058e+07</td>\n",
       "      <td>97.000000</td>\n",
       "      <td>5.600000</td>\n",
       "      <td>2004.000000</td>\n",
       "      <td>5.000000e+06</td>\n",
       "    </tr>\n",
       "    <tr>\n",
       "      <th>50%</th>\n",
       "      <td>3.800000e+07</td>\n",
       "      <td>8.361541e+07</td>\n",
       "      <td>107.000000</td>\n",
       "      <td>6.100000</td>\n",
       "      <td>2008.000000</td>\n",
       "      <td>4.400041e+07</td>\n",
       "    </tr>\n",
       "    <tr>\n",
       "      <th>75%</th>\n",
       "      <td>7.200000e+07</td>\n",
       "      <td>1.782626e+08</td>\n",
       "      <td>120.000000</td>\n",
       "      <td>6.600000</td>\n",
       "      <td>2012.000000</td>\n",
       "      <td>1.201842e+08</td>\n",
       "    </tr>\n",
       "    <tr>\n",
       "      <th>max</th>\n",
       "      <td>3.800000e+08</td>\n",
       "      <td>2.781506e+09</td>\n",
       "      <td>214.000000</td>\n",
       "      <td>8.100000</td>\n",
       "      <td>2015.000000</td>\n",
       "      <td>2.544506e+09</td>\n",
       "    </tr>\n",
       "  </tbody>\n",
       "</table>\n",
       "</div>"
      ],
      "text/plain": [
       "             budget       revenue      runtime  vote_average  release_year  \\\n",
       "count  1.889000e+03  1.889000e+03  1889.000000   1889.000000   1889.000000   \n",
       "mean   5.431083e+07  1.553653e+08   109.658549      6.140762   2007.860773   \n",
       "std    4.858721e+07  2.146698e+08    18.017041      0.764763      4.468841   \n",
       "min    5.000000e+06  2.033165e+06    63.000000      3.300000   2000.000000   \n",
       "25%    2.000000e+07  3.456058e+07    97.000000      5.600000   2004.000000   \n",
       "50%    3.800000e+07  8.361541e+07   107.000000      6.100000   2008.000000   \n",
       "75%    7.200000e+07  1.782626e+08   120.000000      6.600000   2012.000000   \n",
       "max    3.800000e+08  2.781506e+09   214.000000      8.100000   2015.000000   \n",
       "\n",
       "             profit  \n",
       "count  1.889000e+03  \n",
       "mean   1.010545e+08  \n",
       "std    1.830733e+08  \n",
       "min   -1.657101e+08  \n",
       "25%    5.000000e+06  \n",
       "50%    4.400041e+07  \n",
       "75%    1.201842e+08  \n",
       "max    2.544506e+09  "
      ]
     },
     "execution_count": 57,
     "metadata": {},
     "output_type": "execute_result"
    }
   ],
   "source": [
    "data.describe()"
   ]
  },
  {
   "cell_type": "markdown",
   "metadata": {
    "colab_type": "text",
    "id": "DTIt7ezGVp-G"
   },
   "source": [
    "# Предобработка"
   ]
  },
  {
   "cell_type": "code",
   "execution_count": 53,
   "metadata": {
    "colab": {},
    "colab_type": "code",
    "id": "jNb40DwKVp-H"
   },
   "outputs": [],
   "source": [
    "answers = {}"
   ]
  },
  {
   "cell_type": "markdown",
   "metadata": {
    "colab_type": "text",
    "id": "YxZaH-nPVp-L"
   },
   "source": [
    "# 1. У какого фильма из списка самый большой бюджет?"
   ]
  },
  {
   "cell_type": "markdown",
   "metadata": {
    "colab_type": "text",
    "id": "Nd-G5gX6Vp-M"
   },
   "source": [
    "Использовать варианты ответов в коде решения запрещено.    \n",
    "Вы думаете и в жизни у вас будут варианты ответов?)"
   ]
  },
  {
   "cell_type": "code",
   "execution_count": 156,
   "metadata": {
    "colab": {},
    "colab_type": "code",
    "id": "uVnXAY5RVp-O"
   },
   "outputs": [],
   "source": [
    "x_1 = data.groupby(['original_title'])['budget'].max().sort_values(ascending=False).index[0]\n",
    "\n",
    "answers['1'] = x_1\n"
   ]
  },
  {
   "cell_type": "markdown",
   "metadata": {
    "colab_type": "text",
    "id": "K7L3nbRXVp-X"
   },
   "source": [
    "ВАРИАНТ 2"
   ]
  },
  {
   "cell_type": "markdown",
   "metadata": {
    "colab_type": "text",
    "id": "FNRbbI3vVp-c"
   },
   "source": [
    "# 2. Какой из фильмов самый длительный (в минутах)?"
   ]
  },
  {
   "cell_type": "code",
   "execution_count": 157,
   "metadata": {
    "colab": {},
    "colab_type": "code",
    "id": "ot-VX2XrVp-g"
   },
   "outputs": [],
   "source": [
    "x_2 = data.groupby(['original_title' , 'imdb_id'])['runtime'].max().sort_values(ascending=False).index[0]\n",
    "\n",
    "answers['2'] = x_2"
   ]
  },
  {
   "cell_type": "markdown",
   "metadata": {
    "colab_type": "text",
    "id": "bapLlpW8Vp-k"
   },
   "source": [
    "# 3. Какой из фильмов самый короткий (в минутах)?\n",
    "\n",
    "\n",
    "\n"
   ]
  },
  {
   "cell_type": "code",
   "execution_count": 158,
   "metadata": {
    "colab": {},
    "colab_type": "code",
    "id": "YBxaSHuAVp-l"
   },
   "outputs": [],
   "source": [
    "x_3 = data.groupby(['original_title' , 'imdb_id'])['runtime'].max().sort_values(ascending=True).index[0]\n",
    "\n",
    "answers['3'] = x_3"
   ]
  },
  {
   "cell_type": "markdown",
   "metadata": {
    "colab_type": "text",
    "id": "TfQbxbfNVp-p"
   },
   "source": [
    "# 4. Какова средняя длительность фильмов?\n"
   ]
  },
  {
   "cell_type": "code",
   "execution_count": 159,
   "metadata": {
    "colab": {},
    "colab_type": "code",
    "id": "5K6dKZYVVp-q"
   },
   "outputs": [],
   "source": [
    "x_4 = round(data['runtime'].mean(),0)\n",
    "\n",
    "answers['4'] = x_4 "
   ]
  },
  {
   "cell_type": "markdown",
   "metadata": {
    "colab_type": "text",
    "id": "r5TvbnT_Vp-u"
   },
   "source": [
    "# 5. Каково медианное значение длительности фильмов? "
   ]
  },
  {
   "cell_type": "code",
   "execution_count": 160,
   "metadata": {
    "colab": {},
    "colab_type": "code",
    "id": "iBROplKnVp-v"
   },
   "outputs": [],
   "source": [
    "data.describe()\n",
    "\n",
    "answers['5'] = '107'\n"
   ]
  },
  {
   "cell_type": "markdown",
   "metadata": {
    "colab_type": "text",
    "id": "39P-deDSVp-y"
   },
   "source": [
    "# 6. Какой самый прибыльный фильм?\n",
    "#### Внимание! Здесь и далее под «прибылью» или «убытками» понимается разность между сборами и бюджетом фильма. (прибыль = сборы - бюджет) в нашем датасете это будет (profit = revenue - budget) "
   ]
  },
  {
   "cell_type": "code",
   "execution_count": 161,
   "metadata": {
    "colab": {},
    "colab_type": "code",
    "id": "UYZh4T9WVp-y"
   },
   "outputs": [],
   "source": [
    "data['profit']=data['revenue'] - data['budget']\n",
    "x_6 = data.groupby(['original_title'])['profit'].max().sort_values(ascending=False).index[0]\n",
    "\n",
    "answers['6'] = x_6"
   ]
  },
  {
   "cell_type": "markdown",
   "metadata": {
    "colab_type": "text",
    "id": "M99JmIX4Vp-2"
   },
   "source": [
    "# 7. Какой фильм самый убыточный? "
   ]
  },
  {
   "cell_type": "code",
   "execution_count": 162,
   "metadata": {
    "colab": {},
    "colab_type": "code",
    "id": "w-D2m4XPVp-3"
   },
   "outputs": [],
   "source": [
    "x_7 = data.groupby(['original_title'])['profit'].max().sort_values(ascending=True).index[0]\n",
    "\n",
    "answers['7'] = x_7"
   ]
  },
  {
   "cell_type": "markdown",
   "metadata": {
    "colab_type": "text",
    "id": "wEOM5ERVVp-6"
   },
   "source": [
    "# 8. У скольких фильмов из датасета объем сборов оказался выше бюджета?"
   ]
  },
  {
   "cell_type": "code",
   "execution_count": 163,
   "metadata": {
    "colab": {},
    "colab_type": "code",
    "id": "y00_7HD6Vp-7"
   },
   "outputs": [],
   "source": [
    "x = data[data['profit'] > 0]\n",
    "x_8 = len(x)\n",
    "\n",
    "answers['8'] = x_8"
   ]
  },
  {
   "cell_type": "markdown",
   "metadata": {
    "colab_type": "text",
    "id": "xhpspA9KVp_A"
   },
   "source": [
    "# 9. Какой фильм оказался самым кассовым в 2008 году?"
   ]
  },
  {
   "cell_type": "code",
   "execution_count": 164,
   "metadata": {
    "colab": {},
    "colab_type": "code",
    "id": "MoUyQr9RVp_B"
   },
   "outputs": [],
   "source": [
    "x_9 = data.loc[data.release_year == 2008].groupby(['original_title'])['revenue'].max().sort_values(ascending=False).index[0]\n",
    "\n",
    "answers['9'] = x_9"
   ]
  },
  {
   "cell_type": "markdown",
   "metadata": {
    "colab_type": "text",
    "id": "Zi4hDKidVp_F"
   },
   "source": [
    "# 10. Самый убыточный фильм за период с 2012 по 2014 г. (включительно)?\n"
   ]
  },
  {
   "cell_type": "code",
   "execution_count": 165,
   "metadata": {
    "colab": {},
    "colab_type": "code",
    "id": "XqyRmufJVp_F"
   },
   "outputs": [],
   "source": [
    "s = data.loc[data.release_year <= 2014]\n",
    "x_10 = s.loc[s.release_year >= 2012].groupby(['original_title'])['profit'].max().sort_values(ascending=True).index[0]\n",
    "\n",
    "answers['10'] = x_10\n"
   ]
  },
  {
   "cell_type": "markdown",
   "metadata": {
    "colab_type": "text",
    "id": "EA7Sa9dkVp_I"
   },
   "source": [
    "# 11. Какого жанра фильмов больше всего?"
   ]
  },
  {
   "cell_type": "code",
   "execution_count": 166,
   "metadata": {
    "colab": {},
    "colab_type": "code",
    "id": "otO3SbrSVp_N"
   },
   "outputs": [],
   "source": [
    "s = data.copy()\n",
    "s['genres_split'] = data['genres'].str.split('|')\n",
    "a = s.explode('genres_split')\n",
    "x_11 = a['genres_split'].value_counts().index[0]\n",
    "\n",
    "answers['11'] = x_11"
   ]
  },
  {
   "cell_type": "markdown",
   "metadata": {
    "colab_type": "text",
    "id": "T9_bPWpkVp_Q"
   },
   "source": [
    "# 12. Фильмы какого жанра чаще всего становятся прибыльными? "
   ]
  },
  {
   "cell_type": "code",
   "execution_count": 167,
   "metadata": {
    "colab": {},
    "colab_type": "code",
    "id": "Tmt8MaK1Vp_R"
   },
   "outputs": [],
   "source": [
    "s = data.copy()\n",
    "s['genres_split'] = data['genres'].str.split('|')\n",
    "a = s.explode('genres_split')\n",
    "x_12 = a.loc[a.profit > 0]['genres_split'].value_counts().index[0]\n",
    "\n",
    "answers['12'] = x_12\n"
   ]
  },
  {
   "cell_type": "markdown",
   "metadata": {
    "colab_type": "text",
    "id": "0F23bgsDVp_U"
   },
   "source": [
    "# 13. У какого режиссера самые большие суммарные кассовые сборы?"
   ]
  },
  {
   "cell_type": "code",
   "execution_count": 168,
   "metadata": {
    "colab": {},
    "colab_type": "code",
    "id": "K6Z3J8ygVp_X"
   },
   "outputs": [],
   "source": [
    "x_13 = data.groupby(['director'])['revenue'].sum().sort_values(ascending=False).index[0] \n",
    "#Здесь можно обойтись без функции split, пользуйся обычной логикой. У всех высокобюджетных фильмов не бывает несколько режиссеров. \n",
    "answers['13'] = x_13"
   ]
  },
  {
   "cell_type": "markdown",
   "metadata": {
    "colab_type": "text",
    "id": "PsYC9FgRVp_a"
   },
   "source": [
    "# 14. Какой режисер снял больше всего фильмов в стиле Action?"
   ]
  },
  {
   "cell_type": "code",
   "execution_count": 169,
   "metadata": {
    "colab": {},
    "colab_type": "code",
    "id": "wd2M-wHeVp_b"
   },
   "outputs": [],
   "source": [
    "s = data.loc[data.genres.str.contains('Action') == True]\n",
    "a = s.copy()\n",
    "a['dirs'] = s['director'].str.split('|')\n",
    "x_14 = a.explode('dirs')['dirs'].value_counts().index[0]\n",
    "\n",
    "answers['14'] = x_14"
   ]
  },
  {
   "cell_type": "markdown",
   "metadata": {
    "colab_type": "text",
    "id": "PQ0KciD7Vp_f"
   },
   "source": [
    "# 15. Фильмы с каким актером принесли самые высокие кассовые сборы в 2012 году? "
   ]
  },
  {
   "cell_type": "code",
   "execution_count": 170,
   "metadata": {
    "colab": {},
    "colab_type": "code",
    "id": "aga62oeKVp_g"
   },
   "outputs": [],
   "source": [
    "s = data.loc[data.release_year == 2012]\n",
    "a = s.copy()\n",
    "a['actors'] = s['cast'].str.split('|')\n",
    "x_15 = a.explode('actors').groupby(['actors'])['revenue'].sum().sort_values(ascending=False).index[0]\n",
    "\n",
    "answers['15'] = x_15"
   ]
  },
  {
   "cell_type": "markdown",
   "metadata": {
    "colab_type": "text",
    "id": "mWHyyL7QVp_j"
   },
   "source": [
    "# 16. Какой актер снялся в большем количестве высокобюджетных фильмов?"
   ]
  },
  {
   "cell_type": "code",
   "execution_count": 171,
   "metadata": {
    "colab": {},
    "colab_type": "code",
    "id": "qQtmHKTFVp_k"
   },
   "outputs": [],
   "source": [
    "s = data.loc[data.budget > data.budget.mean()]\n",
    "a = s.copy()\n",
    "a['actors'] = s['cast'].str.split('|')\n",
    "x_16 = a.explode('actors')['actors'].value_counts().index[0]\n",
    "\n",
    "answers['16'] = x_16"
   ]
  },
  {
   "cell_type": "markdown",
   "metadata": {
    "colab_type": "text",
    "id": "NIh6AaW5Vp_n"
   },
   "source": [
    "# 17. В фильмах какого жанра больше всего снимался Nicolas Cage? "
   ]
  },
  {
   "cell_type": "code",
   "execution_count": 172,
   "metadata": {
    "colab": {},
    "colab_type": "code",
    "id": "H74SJDIBVp_n"
   },
   "outputs": [],
   "source": [
    "s = data.copy()\n",
    "s['actors'] = data['cast'].str.split('|')\n",
    "a = s.copy()\n",
    "b = s.copy()\n",
    "b = a.explode('actors')\n",
    "c = b.loc[b.actors == 'Nicolas Cage']\n",
    "d = c.copy()\n",
    "d['genre_split'] = c['genres'].str.split('|')\n",
    "x_17 = d.explode('genre_split')['genre_split'].value_counts().index[0]\n",
    "\n",
    "answers['17'] = x_17\n"
   ]
  },
  {
   "cell_type": "markdown",
   "metadata": {
    "colab_type": "text",
    "id": "RqOmPRfWVp_q"
   },
   "source": [
    "# 18. Самый убыточный фильм от Paramount Pictures"
   ]
  },
  {
   "cell_type": "code",
   "execution_count": 173,
   "metadata": {
    "colab": {},
    "colab_type": "code",
    "id": "9E_B0Y96Vp_r"
   },
   "outputs": [],
   "source": [
    "s = data.copy()\n",
    "s['companies_split'] = data['production_companies'].str.split('|')\n",
    "a = s.copy()\n",
    "a = s.explode('companies_split')\n",
    "x_18 = a.loc[a.companies_split.str.contains('Paramount Pictures') == True].groupby(['original_title'])['profit'].min().sort_values(ascending=True).index[0]\n",
    "\n",
    "answers['18'] = x_18\n"
   ]
  },
  {
   "cell_type": "markdown",
   "metadata": {
    "colab_type": "text",
    "id": "vS8Ur6ddVp_u"
   },
   "source": [
    "# 19. Какой год стал самым успешным по суммарным кассовым сборам?"
   ]
  },
  {
   "cell_type": "code",
   "execution_count": 174,
   "metadata": {
    "colab": {},
    "colab_type": "code",
    "id": "Dnbt4GdIVp_v"
   },
   "outputs": [],
   "source": [
    "x_19 = data.groupby(['release_year'])['revenue'].sum().sort_values(ascending=False).index[0]\n",
    "\n",
    "answers['19'] = x_19"
   ]
  },
  {
   "cell_type": "markdown",
   "metadata": {
    "colab_type": "text",
    "id": "JAzJh4QAVp_z"
   },
   "source": [
    "# 20. Какой самый прибыльный год для студии Warner Bros?"
   ]
  },
  {
   "cell_type": "code",
   "execution_count": 175,
   "metadata": {
    "colab": {},
    "colab_type": "code",
    "id": "wgVu02DEVp_0"
   },
   "outputs": [],
   "source": [
    "s = data.copy()\n",
    "s['companies_split'] = data['production_companies'].str.split('|')\n",
    "a = s.copy()\n",
    "a = s.explode('companies_split')\n",
    "x_20 = a.loc[a.companies_split.str.contains('Warner Bros') == True].groupby(['release_year'])['profit'].sum().sort_values(ascending=False).index[0]\n",
    "\n",
    "answers['20'] = x_20"
   ]
  },
  {
   "cell_type": "markdown",
   "metadata": {
    "colab_type": "text",
    "id": "8Im1S2HRVp_4"
   },
   "source": [
    "# 21. В каком месяце за все годы суммарно вышло больше всего фильмов?"
   ]
  },
  {
   "cell_type": "code",
   "execution_count": 176,
   "metadata": {
    "colab": {},
    "colab_type": "code",
    "id": "lev6TH7gVp_4"
   },
   "outputs": [],
   "source": [
    "year = {'1/' : 'Январь' , \n",
    "        '2/' : 'Февраль' ,\n",
    "        '3/' : 'Март' ,\n",
    "        '4/' : 'Апрель' ,\n",
    "        '5/' : 'Май' ,\n",
    "        '6/' : 'Июнь' ,\n",
    "        '7/' : 'Июль' ,\n",
    "        '8/' : 'Август',\n",
    "        '9/' : 'Сентябрь',\n",
    "        '10' : 'Октябрь',\n",
    "        '11' : 'Ноябрь',\n",
    "        '12' : 'Декабрь'}\n",
    "\n",
    "data['month']=data.release_date.str.slice(stop=2)\n",
    "x_21 = data['month'].value_counts().index[0]\n",
    "\n",
    "answers['21'] = year[x_21]\n"
   ]
  },
  {
   "cell_type": "markdown",
   "metadata": {
    "colab_type": "text",
    "id": "uAJsZ_NeVp_7"
   },
   "source": [
    "# 22. Сколько суммарно вышло фильмов летом? (за июнь, июль, август)"
   ]
  },
  {
   "cell_type": "code",
   "execution_count": 177,
   "metadata": {
    "colab": {},
    "colab_type": "code",
    "id": "Aa-hEREoVp_8"
   },
   "outputs": [],
   "source": [
    "a = data['month'].value_counts()\n",
    "b = dict()\n",
    "for i in year.keys():\n",
    "    for j in a.keys():\n",
    "        if i == j:\n",
    "            b.setdefault(year[i] , a[j])\n",
    "x_22 = b['Июнь'] + b['Июль'] + b['Август']\n",
    "\n",
    "answers['22'] = summer"
   ]
  },
  {
   "cell_type": "markdown",
   "metadata": {
    "colab_type": "text",
    "id": "G94ppOY1VqAA"
   },
   "source": [
    "# 23. Для какого режиссера зима – самое продуктивное время года? "
   ]
  },
  {
   "cell_type": "code",
   "execution_count": 178,
   "metadata": {
    "colab": {},
    "colab_type": "code",
    "id": "RhNTsamuVqAB"
   },
   "outputs": [],
   "source": [
    "x_23 = data.loc[data.month.isin(['1/','2/','12'])].director.value_counts().index[0]\n",
    "\n",
    "answers['23'] = x_23"
   ]
  },
  {
   "cell_type": "markdown",
   "metadata": {
    "colab_type": "text",
    "id": "RBo0JVjVVqAF"
   },
   "source": [
    "# 24. Какая студия дает самые длинные названия своим фильмам по количеству символов?"
   ]
  },
  {
   "cell_type": "code",
   "execution_count": 189,
   "metadata": {
    "colab": {},
    "colab_type": "code",
    "id": "QRGS8L0iVqAG"
   },
   "outputs": [],
   "source": [
    "data['title_len']=data.original_title.str.len()\n",
    "s = data.copy()\n",
    "s['companies_split'] = data['production_companies'].str.split('|')\n",
    "a = s.copy()\n",
    "a = s.explode('companies_split')\n",
    "x_24 = a.groupby(['companies_split'])['title_len'].max().sort_values(ascending=False).index[0]\n",
    "\n",
    "answers['24'] = x_24"
   ]
  },
  {
   "cell_type": "markdown",
   "metadata": {
    "colab_type": "text",
    "id": "9G0hbvR7VqAK"
   },
   "source": [
    "# 25. Описание фильмов какой студии в среднем самые длинные по количеству слов?"
   ]
  },
  {
   "cell_type": "code",
   "execution_count": 180,
   "metadata": {
    "colab": {},
    "colab_type": "code",
    "id": "Ge2GsLNxVqAK"
   },
   "outputs": [],
   "source": [
    "data['overview_len']=data.overview.str.len()\n",
    "s = data.copy()\n",
    "s['companies_split'] = data['production_companies'].str.split('|')\n",
    "a = s.copy()\n",
    "a = s.explode('companies_split')\n",
    "x_25 = a.groupby(['companies_split'])['overview_len'].mean().sort_values(ascending=False).index[0]\n",
    "\n",
    "answers['25'] = x_25"
   ]
  },
  {
   "cell_type": "markdown",
   "metadata": {
    "colab_type": "text",
    "id": "FJ1AFt90VqAP"
   },
   "source": [
    "# 26. Какие фильмы входят в 1 процент лучших по рейтингу? \n",
    "по vote_average"
   ]
  },
  {
   "cell_type": "code",
   "execution_count": 181,
   "metadata": {
    "colab": {},
    "colab_type": "code",
    "id": "8qmJVq4CVqAQ"
   },
   "outputs": [],
   "source": [
    "s = data.groupby(['original_title'])['vote_average'].max().sort_values(ascending=False)\n",
    "x = round(1889/100,0)\n",
    "s.head(int(round(1889/100,0)))\n",
    "\n",
    "answers['26'] = 'The Dark Knight , Inside Out , 12 Years a Slave'"
   ]
  },
  {
   "cell_type": "markdown",
   "metadata": {
    "colab_type": "text",
    "id": "MdXsUXbCVqAV"
   },
   "source": [
    "# 27. Какие актеры чаще всего снимаются в одном фильме вместе?\n"
   ]
  },
  {
   "cell_type": "markdown",
   "metadata": {
    "colab_type": "text",
    "id": "4ymnxEVoVqAW"
   },
   "source": [
    "ВАРИАНТ 2"
   ]
  },
  {
   "cell_type": "code",
   "execution_count": 182,
   "metadata": {
    "scrolled": true
   },
   "outputs": [],
   "source": [
    "from itertools import combinations\n",
    "df = data.copy()\n",
    "df['cast_split'] = data['cast'].str.split('|')\n",
    "actors_couples = list()\n",
    "actors_couples_nosplit = list()\n",
    "A = pd.Series(df.cast_split)\n",
    "for actors in A:\n",
    "    couples = list(combinations(actors, 2))\n",
    "    actors_couples.append(couples)\n",
    "for i in actors_couples:\n",
    "    for j in i:\n",
    "        couple_1 = j[0] + j[1]\n",
    "        actors_couples_nosplit.append(couple_1)\n",
    "B = pd.Series(actors_couples_nosplit)        \n",
    "x_27 = B.value_counts().index[0]\n",
    "\n",
    "answers['27'] = x_27\n"
   ]
  },
  {
   "cell_type": "markdown",
   "metadata": {
    "colab_type": "text",
    "id": "U0nONFnGVqAX"
   },
   "source": [
    "# Submission"
   ]
  },
  {
   "cell_type": "code",
   "execution_count": 0,
   "metadata": {
    "colab": {},
    "colab_type": "code",
    "id": "IfcaRO9-VqAX",
    "outputId": "0f132912-32bb-4196-c98c-abfbc4ad5a5f"
   },
   "outputs": [
    {
     "data": {
      "text/plain": [
       "{'1': '...', '2': '...'}"
      ]
     },
     "execution_count": 8,
     "metadata": {
      "tags": []
     },
     "output_type": "execute_result"
    }
   ],
   "source": [
    "# в конце можно посмотреть свои ответы к каждому вопросу\n",
    "answers"
   ]
  },
  {
   "cell_type": "code",
   "execution_count": 0,
   "metadata": {
    "colab": {},
    "colab_type": "code",
    "id": "SiRmHPl8VqAd"
   },
   "outputs": [],
   "source": [
    "# и убедиться что ни чего не пропустил)\n",
    "len(answers)"
   ]
  },
  {
   "cell_type": "code",
   "execution_count": 183,
   "metadata": {
    "colab": {},
    "colab_type": "code",
    "id": "uCfuTkRbVqAg"
   },
   "outputs": [
    {
     "data": {
      "text/plain": [
       "{'1': 'Pirates of the Caribbean: On Stranger Tides',\n",
       " '2': ('Gods and Generals', 'tt0279111'),\n",
       " '3': ('Winnie the Pooh', 'tt1449283'),\n",
       " '4': 110.0,\n",
       " '5': '107',\n",
       " '6': 'Avatar',\n",
       " '7': 'The Lone Ranger',\n",
       " '8': 1478,\n",
       " '9': 'The Dark Knight',\n",
       " '10': 'The Lone Ranger',\n",
       " '11': 'Drama',\n",
       " '12': 'Drama',\n",
       " '21': 'Сентябрь',\n",
       " '22': 450,\n",
       " '23': 'Peter Jackson',\n",
       " '24': 'Warner Bros.',\n",
       " '25': 'Midnight Picture Show',\n",
       " '26': 'The Dark Knight , Inside Out , 12 Years a Slave',\n",
       " '27': 'Daniel RadcliffeRupert Grint',\n",
       " '18': 'K-19: The Widowmaker',\n",
       " '19': 2015,\n",
       " '20': 2014,\n",
       " '13': 'Peter Jackson',\n",
       " '14': 'Robert Rodriguez',\n",
       " '15': 'Chris Hemsworth',\n",
       " '16': 'Matt Damon',\n",
       " '17': 'Action'}"
      ]
     },
     "execution_count": 183,
     "metadata": {},
     "output_type": "execute_result"
    }
   ],
   "source": [
    "answers"
   ]
  },
  {
   "cell_type": "code",
   "execution_count": 0,
   "metadata": {
    "colab": {},
    "colab_type": "code",
    "id": "Vwx3NrkSVqAl"
   },
   "outputs": [],
   "source": []
  }
 ],
 "metadata": {
  "colab": {
   "name": "Copy of [SF-DST] Movies IMBD v4.1 TEMPLATE.ipynb",
   "provenance": []
  },
  "kernelspec": {
   "display_name": "Python 3",
   "language": "python",
   "name": "python3"
  },
  "language_info": {
   "codemirror_mode": {
    "name": "ipython",
    "version": 3
   },
   "file_extension": ".py",
   "mimetype": "text/x-python",
   "name": "python",
   "nbconvert_exporter": "python",
   "pygments_lexer": "ipython3",
   "version": "3.8.3"
  }
 },
 "nbformat": 4,
 "nbformat_minor": 1
}
